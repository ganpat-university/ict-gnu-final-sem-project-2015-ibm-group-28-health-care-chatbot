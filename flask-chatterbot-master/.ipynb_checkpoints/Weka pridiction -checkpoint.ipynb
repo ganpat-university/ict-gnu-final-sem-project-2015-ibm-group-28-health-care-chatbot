{
 "cells": [
  {
   "cell_type": "markdown",
   "metadata": {},
   "source": [
    "# file prediction\n"
   ]
  },
  {
   "cell_type": "code",
   "execution_count": 2,
   "metadata": {},
   "outputs": [
    {
     "name": "stderr",
     "output_type": "stream",
     "text": [
      "INFO:weka.core.jvm:JVM already running, call jvm.stop() first\n"
     ]
    }
   ],
   "source": [
    "import weka.core.jvm as jvm\n",
    "jvm.start()\n",
    "from weka.core.converters import Loader\n",
    "from weka.classifiers import Classifier\n",
    "import weka.core.serialization as serialization\n",
    "\n"
   ]
  },
  {
   "cell_type": "code",
   "execution_count": 3,
   "metadata": {},
   "outputs": [],
   "source": [
    "loader = Loader(classname=\"weka.core.converters.ArffLoader\")\n",
    "\n",
    "data_dir = \"D:\\\\Rahul\\\\HealthCare ChatBot\\\\healthcare-dataset-stroke-data\\\\\"\n",
    "\n",
    "\n",
    "\n",
    "objects = serialization.read_all(\"J48.model\")\n",
    "csr = Classifier(jobject=objects[0])\n",
    "#print(classifier)"
   ]
  },
  {
   "cell_type": "code",
   "execution_count": 4,
   "metadata": {},
   "outputs": [],
   "source": [
    "f= open(\"instances.arff\",\"a\")\n",
    "\n",
    "#enter attributes\n",
    "\n",
    "st= \"\\nFemale,54,1,0,Yes,Private,Urban,72.93,35.7,'never smoked',yes\"\n",
    "f.write(st)\n",
    "f.close()\n",
    "\n"
   ]
  },
  {
   "cell_type": "code",
   "execution_count": 6,
   "metadata": {},
   "outputs": [
    {
     "name": "stdout",
     "output_type": "stream",
     "text": [
      "@relation test\n",
      "\n",
      "@attribute gender {Male,Female,Other}\n",
      "@attribute age numeric\n",
      "@attribute hypertension numeric\n",
      "@attribute heart_disease numeric\n",
      "@attribute ever_married {No,Yes}\n",
      "@attribute work_type {children,Private,Never_worked,Self-employed,Govt_job}\n",
      "@attribute Residence_type {Rural,Urban}\n",
      "@attribute avg_glucose_level numeric\n",
      "@attribute bmi numeric\n",
      "@attribute smoking_status {'never smoked','formerly smoked',smokes}\n",
      "@attribute stroke {no,yes}\n",
      "\n",
      "@data\n",
      "Male,80,0,0,Yes,Private,Urban,83.84,21.1,'formerly smoked',?\n",
      "Male,80,0,0,Yes,Private,Urban,83.84,21.1,'formerly smoked',?\n",
      "Female,54,1,0,Yes,Private,Urban,72.93,35.7,'never smoked',yes\n"
     ]
    }
   ],
   "source": [
    "f= open(\"D:\\\\Rahul\\\\HealthCare ChatBot\\\\healthcare-dataset-stroke-data\\\\instances.arff\",\"r\")\n",
    "print(f.read())\n",
    "f.close()"
   ]
  },
  {
   "cell_type": "code",
   "execution_count": 11,
   "metadata": {},
   "outputs": [
    {
     "name": "stdout",
     "output_type": "stream",
     "text": [
      "Class prediction:  yes\n",
      "\n",
      "\n",
      "     Instance      Actual     Predicted\n",
      "        1        1:?       1:no       1 \n",
      "        2        1:?       1:no       1 \n",
      "        3      2:yes      2:yes       1 \n",
      "\n"
     ]
    }
   ],
   "source": [
    "from weka.classifiers import PredictionOutput\n",
    "from weka.classifiers import Evaluation\n",
    "from weka.core.classes import Random\n",
    "output_results = PredictionOutput(classname=\"weka.classifiers.evaluation.output.prediction.PlainText\")\n",
    "data1 = loader.load_file(\"instances.arff\")\n",
    "data1.class_is_last()\n",
    "ev2 = Evaluation(data1)\n",
    "ev2.test_model(csr,data1,output_results)\n",
    "print(\"Class prediction: \",output_results.buffer_content()[-13:-10])\n",
    "print(\"\\n\\n     Instance\",\"     Actual\",\"    Predicted\")\n",
    "print(output_results.buffer_content())"
   ]
  }
 ],
 "metadata": {
  "kernelspec": {
   "display_name": "Python 3",
   "language": "python",
   "name": "python3"
  },
  "language_info": {
   "codemirror_mode": {
    "name": "ipython",
    "version": 3
   },
   "file_extension": ".py",
   "mimetype": "text/x-python",
   "name": "python",
   "nbconvert_exporter": "python",
   "pygments_lexer": "ipython3",
   "version": "3.7.0"
  }
 },
 "nbformat": 4,
 "nbformat_minor": 2
}
