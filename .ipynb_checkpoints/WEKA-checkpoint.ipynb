{
 "cells": [
  {
   "cell_type": "markdown",
   "metadata": {},
   "source": [
    "# Requirements \n",
    "    ### Visual C++ 14 v \n",
    "    ### javabridge \n",
    "    ### Pip install python-weka-wrapper3\n"
   ]
  },
  {
   "cell_type": "code",
   "execution_count": 1,
   "metadata": {},
   "outputs": [
    {
     "name": "stderr",
     "output_type": "stream",
     "text": [
      "DEBUG:weka.core.jvm:Adding bundled jars\n",
      "DEBUG:weka.core.jvm:Classpath=['C:\\\\ProgramData\\\\Anaconda3\\\\lib\\\\site-packages\\\\javabridge\\\\jars\\\\rhino-1.7R4.jar', 'C:\\\\ProgramData\\\\Anaconda3\\\\lib\\\\site-packages\\\\javabridge\\\\jars\\\\runnablequeue.jar', 'C:\\\\ProgramData\\\\Anaconda3\\\\lib\\\\site-packages\\\\javabridge\\\\jars\\\\cpython.jar', 'C:\\\\ProgramData\\\\Anaconda3\\\\lib\\\\site-packages\\\\weka\\\\lib\\\\python-weka-wrapper.jar', 'C:\\\\ProgramData\\\\Anaconda3\\\\lib\\\\site-packages\\\\weka\\\\lib\\\\weka.jar']\n",
      "DEBUG:weka.core.jvm:MaxHeapSize=default\n",
      "DEBUG:weka.core.jvm:Package support disabled\n"
     ]
    },
    {
     "ename": "Exception",
     "evalue": "Dataset file does not exist: D:\\Rahul\\HealthCare ChatBot\\healthcare-dataset-stroke-data\\Smote.arff",
     "output_type": "error",
     "traceback": [
      "\u001b[1;31m---------------------------------------------------------------------------\u001b[0m",
      "\u001b[1;31mException\u001b[0m                                 Traceback (most recent call last)",
      "\u001b[1;32m<ipython-input-1-680fe5790407>\u001b[0m in \u001b[0;36m<module>\u001b[1;34m()\u001b[0m\n\u001b[0;32m      6\u001b[0m \u001b[1;33m\u001b[0m\u001b[0m\n\u001b[0;32m      7\u001b[0m \u001b[0mdata_dir\u001b[0m \u001b[1;33m=\u001b[0m \u001b[1;34m\"D:\\\\Rahul\\\\HealthCare ChatBot\\\\healthcare-dataset-stroke-data\\\\\"\u001b[0m\u001b[1;33m\u001b[0m\u001b[0m\n\u001b[1;32m----> 8\u001b[1;33m \u001b[0mdata\u001b[0m \u001b[1;33m=\u001b[0m \u001b[0mloader\u001b[0m\u001b[1;33m.\u001b[0m\u001b[0mload_file\u001b[0m\u001b[1;33m(\u001b[0m\u001b[0mdata_dir\u001b[0m \u001b[1;33m+\u001b[0m \u001b[1;34m\"Smote.arff\"\u001b[0m\u001b[1;33m)\u001b[0m\u001b[1;33m\u001b[0m\u001b[0m\n\u001b[0m\u001b[0;32m      9\u001b[0m \u001b[0mdata\u001b[0m\u001b[1;33m.\u001b[0m\u001b[0mclass_is_last\u001b[0m\u001b[1;33m(\u001b[0m\u001b[1;33m)\u001b[0m\u001b[1;33m\u001b[0m\u001b[0m\n\u001b[0;32m     10\u001b[0m \u001b[1;33m\u001b[0m\u001b[0m\n",
      "\u001b[1;32mC:\\ProgramData\\Anaconda3\\lib\\site-packages\\weka\\core\\converters.py\u001b[0m in \u001b[0;36mload_file\u001b[1;34m(self, dfile, incremental)\u001b[0m\n\u001b[0;32m     80\u001b[0m         \u001b[0msfile\u001b[0m \u001b[1;33m=\u001b[0m \u001b[0mjavabridge\u001b[0m\u001b[1;33m.\u001b[0m\u001b[0mto_string\u001b[0m\u001b[1;33m(\u001b[0m\u001b[0mdfile\u001b[0m\u001b[1;33m)\u001b[0m\u001b[1;33m\u001b[0m\u001b[0m\n\u001b[0;32m     81\u001b[0m         \u001b[1;32mif\u001b[0m \u001b[1;32mnot\u001b[0m \u001b[0mos\u001b[0m\u001b[1;33m.\u001b[0m\u001b[0mpath\u001b[0m\u001b[1;33m.\u001b[0m\u001b[0mexists\u001b[0m\u001b[1;33m(\u001b[0m\u001b[0msfile\u001b[0m\u001b[1;33m)\u001b[0m\u001b[1;33m:\u001b[0m\u001b[1;33m\u001b[0m\u001b[0m\n\u001b[1;32m---> 82\u001b[1;33m             \u001b[1;32mraise\u001b[0m \u001b[0mException\u001b[0m\u001b[1;33m(\u001b[0m\u001b[1;34m\"Dataset file does not exist: \"\u001b[0m \u001b[1;33m+\u001b[0m \u001b[0mstr\u001b[0m\u001b[1;33m(\u001b[0m\u001b[0msfile\u001b[0m\u001b[1;33m)\u001b[0m\u001b[1;33m)\u001b[0m\u001b[1;33m\u001b[0m\u001b[0m\n\u001b[0m\u001b[0;32m     83\u001b[0m         \u001b[0mjavabridge\u001b[0m\u001b[1;33m.\u001b[0m\u001b[0mcall\u001b[0m\u001b[1;33m(\u001b[0m\u001b[0mself\u001b[0m\u001b[1;33m.\u001b[0m\u001b[0mjobject\u001b[0m\u001b[1;33m,\u001b[0m \u001b[1;34m\"setFile\"\u001b[0m\u001b[1;33m,\u001b[0m \u001b[1;34m\"(Ljava/io/File;)V\"\u001b[0m\u001b[1;33m,\u001b[0m \u001b[0mdfile\u001b[0m\u001b[1;33m)\u001b[0m\u001b[1;33m\u001b[0m\u001b[0m\n\u001b[0;32m     84\u001b[0m         \u001b[1;32mif\u001b[0m \u001b[0mincremental\u001b[0m\u001b[1;33m:\u001b[0m\u001b[1;33m\u001b[0m\u001b[0m\n",
      "\u001b[1;31mException\u001b[0m: Dataset file does not exist: D:\\Rahul\\HealthCare ChatBot\\healthcare-dataset-stroke-data\\Smote.arff"
     ]
    }
   ],
   "source": [
    "import weka.core.jvm as jvm\n",
    "jvm.start()\n",
    "from weka.core.converters import Loader\n",
    "from weka.classifiers import Classifier\n",
    "loader = Loader(classname=\"weka.core.converters.ArffLoader\")\n",
    "\n",
    "data_dir = \"D:\\\\Rahul\\\\HealthCare ChatBot\\\\healthcare-dataset-stroke-data\\\\\"\n",
    "data = loader.load_file(data_dir + \"Smote.arff\")\n",
    "data.class_is_last()\n",
    "\n",
    "#print(data)\n",
    "\n"
   ]
  },
  {
   "cell_type": "markdown",
   "metadata": {},
   "source": [
    "# loading saved model or using weka models.\n",
    "\n"
   ]
  },
  {
   "cell_type": "code",
   "execution_count": 3,
   "metadata": {},
   "outputs": [],
   "source": [
    "#cls = Classifier(classname=\"weka.classifiers.meta.AdaBoostM1\",options=[\"-W\", \"weka.classifiers.trees.REPTree\"])\n",
    "#print(cls.to_help())\n",
    "#cls.build_classifier(data)\n",
    "\n",
    "import weka.core.serialization as serialization\n",
    "\n",
    "objects = serialization.read_all(\"D:\\\\Rahul\\\\HealthCare ChatBot\\\\WEka\\\\J48.model\")\n",
    "csr = Classifier(jobject=objects[0])\n",
    "#print(classifier)\n"
   ]
  },
  {
   "cell_type": "markdown",
   "metadata": {},
   "source": [
    "# Model Evaluation"
   ]
  },
  {
   "cell_type": "code",
   "execution_count": 5,
   "metadata": {},
   "outputs": [
    {
     "name": "stdout",
     "output_type": "stream",
     "text": [
      "Accuracy on test Data :  96.81880485260122\n",
      "Confusion Matrix  :  \n",
      "Correctly Classified Instances       47326               96.8188 %\n",
      "Incorrectly Classified Instances      1555                3.1812 %\n",
      "Kappa statistic                          0.8506\n",
      "Mean absolute error                      0.0315\n",
      "Root mean squared error                  0.1706\n",
      "Relative absolute error                 14.0903 %\n",
      "Root relative squared error             51.05   %\n",
      "Total Number of Instances            48881     \n",
      "\n",
      "=== Detailed Accuracy By Class ===\n",
      "\n",
      "                 TP Rate  FP Rate  Precision  Recall   F-Measure  MCC      ROC Area  PRC Area  Class\n",
      "                 0.990    0.179    0.974      0.990    0.982      0.852    0.959     0.990     no\n",
      "                 0.821    0.010    0.922      0.821    0.869      0.852    0.959     0.912     yes\n",
      "Weighted Avg.    0.968    0.158    0.967      0.968    0.967      0.852    0.959     0.980     \n",
      "\n"
     ]
    }
   ],
   "source": [
    "#weka.classifiers.meta.AdaBoostM1 -P 100 -S 1 -I 10 -W weka.classifiers.trees.REPTree -- -M 2 -V 0.001 -N 3 -S 1 -L -1 -I 0.0\n",
    "#print(cls)\n",
    "from weka.classifiers import PredictionOutput\n",
    "from weka.classifiers import Evaluation\n",
    "from weka.core.classes import Random\n",
    "pout = PredictionOutput(classname=\"weka.classifiers.evaluation.output.prediction.PlainText\")\n",
    "\n",
    "# data to predit\n",
    "#data1 = loader.load_file(data_dir + \"Smote11.arff\") #or test 11\n",
    "#data1.class_is_last()\n",
    "\n",
    "# Model Evaluation\n",
    "evl = Evaluation(data)\n",
    "evl.crossvalidate_model(csr, data,10,Random(1))\n",
    "#evl.test_model(csr,data1,pout)\n",
    "\n",
    "print(\"Accuracy on test Data : \" ,evl.percent_correct)\n",
    "print(\"Confusion Matrix  : \"  ,evl.summary())\n",
    "print(evl.class_details())\n",
    "\n",
    "#print(evl.predictions)"
   ]
  },
  {
   "cell_type": "markdown",
   "metadata": {},
   "source": [
    "# Prediction Using Model"
   ]
  },
  {
   "cell_type": "code",
   "execution_count": 7,
   "metadata": {},
   "outputs": [
    {
     "name": "stdout",
     "output_type": "stream",
     "text": [
      "     Instance      Actual     Predicted\n",
      "        1        1:?       1:no       1 \n",
      "        2        1:?       1:no       1 \n",
      "        3        1:?      2:Yes       1 \n",
      "        4        1:?      2:Yes       1 \n",
      "        5        1:?      2:Yes       1 \n",
      "        6        1:?       1:no       1 \n",
      "        7        1:?       1:no       1 \n",
      "        8        1:?       1:no       1 \n",
      "        9        1:?       1:no       1 \n",
      "       10        1:?       1:no       1 \n",
      "       11        1:?       1:no       1 \n",
      "       12        1:?       1:no       1 \n",
      "       13        1:?       1:no       1 \n",
      "       14        1:?       1:no       1 \n",
      "       15        1:?       1:no       1 \n",
      "       16        1:?       1:no       1 \n",
      "       17        1:?       1:no       1 \n",
      "       18        1:?       1:no       1 \n",
      "       19        1:?       1:no       1 \n",
      "       20        1:?      2:Yes       1 \n",
      "       21        1:?      2:Yes       1 \n",
      "       22        1:?      2:Yes       1 \n",
      "       23        1:?       1:no       1 \n",
      "       24        1:?       1:no       1 \n",
      "       25        1:?       1:no       1 \n",
      "       26        1:?       1:no       1 \n",
      "       27        1:?       1:no       1 \n",
      "       28        1:?       1:no       1 \n",
      "       29        1:?       1:no       1 \n",
      "       30        1:?       1:no       1 \n",
      "       31        1:?       1:no       1 \n",
      "       32        1:?       1:no       1 \n",
      "       33        1:?       1:no       1 \n",
      "       34        1:?       1:no       1 \n",
      "       35        1:?       1:no       1 \n",
      "       36        1:?       1:no       1 \n",
      "       37        1:?      2:Yes       1 \n",
      "       38        1:?      2:Yes       1 \n",
      "       39        1:?      2:Yes       1 \n",
      "       40        1:?       1:no       1 \n",
      "       41        1:?       1:no       1 \n",
      "       42        1:?       1:no       1 \n",
      "       43        1:?       1:no       1 \n",
      "       44        1:?       1:no       1 \n",
      "       45        1:?       1:no       1 \n",
      "       46        1:?       1:no       1 \n",
      "       47        1:?       1:no       1 \n",
      "       48        1:?       1:no       1 \n",
      "       49        1:?       1:no       1 \n",
      "       50        1:?       1:no       1 \n",
      "       51        1:?       1:no       1 \n",
      "       52        1:?       1:no       1 \n",
      "       53        1:?       1:no       1 \n",
      "       54        1:?      2:Yes       1 \n",
      "       55        1:?      2:Yes       1 \n",
      "       56        1:?      2:Yes       1 \n",
      "       57        1:?       1:no       1 \n",
      "       58        1:?       1:no       1 \n",
      "       59        1:?       1:no       1 \n",
      "       60        1:?       1:no       1 \n",
      "       61        1:?       1:no       1 \n",
      "       62        1:?       1:no       1 \n",
      "       63        1:?       1:no       1 \n",
      "       64        1:?       1:no       1 \n",
      "       65        1:?       1:no       1 \n",
      "       66        1:?       1:no       1 \n",
      "       67        1:?       1:no       1 \n",
      "       68        1:?       1:no       1 \n",
      "\n"
     ]
    }
   ],
   "source": [
    "data1 = loader.load_file(data_dir + \"test.arff\") #or test 11\n",
    "data1.class_is_last()\n",
    "ev2 = Evaluation(data1)\n",
    "ev2.test_model(csr,data1,pout)\n",
    "\n",
    "print(\"     Instance\",\"     Actual\",\"    Predicted\")\n",
    "print(pout.buffer_content())\n",
    "\n",
    "#import weka.plot.classifiers as plcls  # NB: matplotlib is required\n",
    "#plcls.plot_classifier_errors(evl.predictions, wait=True)"
   ]
  },
  {
   "cell_type": "code",
   "execution_count": 12,
   "metadata": {},
   "outputs": [],
   "source": [
    "#jvm.stop() #to stop"
   ]
  }
 ],
 "metadata": {
  "kernelspec": {
   "display_name": "Python 3",
   "language": "python",
   "name": "python3"
  },
  "language_info": {
   "codemirror_mode": {
    "name": "ipython",
    "version": 3
   },
   "file_extension": ".py",
   "mimetype": "text/x-python",
   "name": "python",
   "nbconvert_exporter": "python",
   "pygments_lexer": "ipython3",
   "version": "3.7.0"
  }
 },
 "nbformat": 4,
 "nbformat_minor": 2
}
