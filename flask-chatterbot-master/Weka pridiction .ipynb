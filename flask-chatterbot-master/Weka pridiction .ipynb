{
 "cells": [
  {
   "cell_type": "markdown",
   "metadata": {},
   "source": [
    "# file prediction\n"
   ]
  },
  {
   "cell_type": "code",
   "execution_count": 26,
   "metadata": {},
   "outputs": [
    {
     "name": "stderr",
     "output_type": "stream",
     "text": [
      "DEBUG:weka.core.jvm:Adding bundled jars\n",
      "DEBUG:weka.core.jvm:Classpath=['C:\\\\ProgramData\\\\Anaconda3\\\\lib\\\\site-packages\\\\javabridge\\\\jars\\\\rhino-1.7R4.jar', 'C:\\\\ProgramData\\\\Anaconda3\\\\lib\\\\site-packages\\\\javabridge\\\\jars\\\\runnablequeue.jar', 'C:\\\\ProgramData\\\\Anaconda3\\\\lib\\\\site-packages\\\\javabridge\\\\jars\\\\cpython.jar', 'C:\\\\ProgramData\\\\Anaconda3\\\\lib\\\\site-packages\\\\weka\\\\lib\\\\python-weka-wrapper.jar', 'C:\\\\ProgramData\\\\Anaconda3\\\\lib\\\\site-packages\\\\weka\\\\lib\\\\weka.jar', 'C:\\\\ProgramData\\\\Anaconda3\\\\lib\\\\site-packages\\\\weka\\\\lib\\\\python-weka-wrapper.jar', 'C:\\\\ProgramData\\\\Anaconda3\\\\lib\\\\site-packages\\\\weka\\\\lib\\\\weka.jar']\n",
      "DEBUG:weka.core.jvm:MaxHeapSize=default\n",
      "DEBUG:weka.core.jvm:Package support disabled\n",
      "Traceback (most recent call last):\n",
      "  File \"C:\\ProgramData\\Anaconda3\\lib\\site-packages\\javabridge\\jutil.py\", line 281, in start_thread\n",
      "    env = vm.create(args)\n",
      "  File \"_javabridge.pyx\", line 653, in _javabridge.JB_VM.create\n",
      "RuntimeError: Failed to create Java VM. Return code = -1\n",
      "ERROR:javabridge.jutil:Failed to create Java VM\n"
     ]
    },
    {
     "ename": "RuntimeError",
     "evalue": "Failed to start Java VM",
     "output_type": "error",
     "traceback": [
      "\u001b[1;31m---------------------------------------------------------------------------\u001b[0m",
      "\u001b[1;31mRuntimeError\u001b[0m                              Traceback (most recent call last)",
      "\u001b[1;32m<ipython-input-26-c60ea7c16aa5>\u001b[0m in \u001b[0;36m<module>\u001b[1;34m()\u001b[0m\n\u001b[0;32m      1\u001b[0m \u001b[1;33m\u001b[0m\u001b[0m\n\u001b[0;32m      2\u001b[0m \u001b[1;32mimport\u001b[0m \u001b[0mweka\u001b[0m\u001b[1;33m.\u001b[0m\u001b[0mcore\u001b[0m\u001b[1;33m.\u001b[0m\u001b[0mjvm\u001b[0m \u001b[1;32mas\u001b[0m \u001b[0mjvm\u001b[0m\u001b[1;33m\u001b[0m\u001b[0m\n\u001b[1;32m----> 3\u001b[1;33m \u001b[0mjvm\u001b[0m\u001b[1;33m.\u001b[0m\u001b[0mstart\u001b[0m\u001b[1;33m(\u001b[0m\u001b[1;33m)\u001b[0m\u001b[1;33m\u001b[0m\u001b[0m\n\u001b[0m\u001b[0;32m      4\u001b[0m \u001b[1;32mfrom\u001b[0m \u001b[0mweka\u001b[0m\u001b[1;33m.\u001b[0m\u001b[0mcore\u001b[0m\u001b[1;33m.\u001b[0m\u001b[0mconverters\u001b[0m \u001b[1;32mimport\u001b[0m \u001b[0mLoader\u001b[0m\u001b[1;33m\u001b[0m\u001b[0m\n\u001b[0;32m      5\u001b[0m \u001b[1;32mfrom\u001b[0m \u001b[0mweka\u001b[0m\u001b[1;33m.\u001b[0m\u001b[0mclassifiers\u001b[0m \u001b[1;32mimport\u001b[0m \u001b[0mClassifier\u001b[0m\u001b[1;33m\u001b[0m\u001b[0m\n",
      "\u001b[1;32mC:\\ProgramData\\Anaconda3\\lib\\site-packages\\weka\\core\\jvm.py\u001b[0m in \u001b[0;36mstart\u001b[1;34m(class_path, bundled, packages, system_cp, max_heap_size)\u001b[0m\n\u001b[0;32m    107\u001b[0m                 \u001b[0mlogger\u001b[0m\u001b[1;33m.\u001b[0m\u001b[0mwarning\u001b[0m\u001b[1;33m(\u001b[0m\u001b[1;34m\"Invalid Weka home: \"\u001b[0m \u001b[1;33m+\u001b[0m \u001b[0mpackages\u001b[0m\u001b[1;33m)\u001b[0m\u001b[1;33m\u001b[0m\u001b[0m\n\u001b[0;32m    108\u001b[0m \u001b[1;33m\u001b[0m\u001b[0m\n\u001b[1;32m--> 109\u001b[1;33m     \u001b[0mjavabridge\u001b[0m\u001b[1;33m.\u001b[0m\u001b[0mstart_vm\u001b[0m\u001b[1;33m(\u001b[0m\u001b[0margs\u001b[0m\u001b[1;33m=\u001b[0m\u001b[0margs\u001b[0m\u001b[1;33m,\u001b[0m \u001b[0mrun_headless\u001b[0m\u001b[1;33m=\u001b[0m\u001b[1;32mTrue\u001b[0m\u001b[1;33m,\u001b[0m \u001b[0mmax_heap_size\u001b[0m\u001b[1;33m=\u001b[0m\u001b[0mmax_heap_size\u001b[0m\u001b[1;33m)\u001b[0m\u001b[1;33m\u001b[0m\u001b[0m\n\u001b[0m\u001b[0;32m    110\u001b[0m     \u001b[0mjavabridge\u001b[0m\u001b[1;33m.\u001b[0m\u001b[0mattach\u001b[0m\u001b[1;33m(\u001b[0m\u001b[1;33m)\u001b[0m\u001b[1;33m\u001b[0m\u001b[0m\n\u001b[0;32m    111\u001b[0m     \u001b[0mstarted\u001b[0m \u001b[1;33m=\u001b[0m \u001b[1;32mTrue\u001b[0m\u001b[1;33m\u001b[0m\u001b[0m\n",
      "\u001b[1;32mC:\\ProgramData\\Anaconda3\\lib\\site-packages\\javabridge\\jutil.py\u001b[0m in \u001b[0;36mstart_vm\u001b[1;34m(args, class_path, max_heap_size, run_headless)\u001b[0m\n\u001b[0;32m    312\u001b[0m     \u001b[0mstart_event\u001b[0m\u001b[1;33m.\u001b[0m\u001b[0mwait\u001b[0m\u001b[1;33m(\u001b[0m\u001b[1;33m)\u001b[0m\u001b[1;33m\u001b[0m\u001b[0m\n\u001b[0;32m    313\u001b[0m     \u001b[1;32mif\u001b[0m \u001b[1;32mnot\u001b[0m \u001b[0m_javabridge\u001b[0m\u001b[1;33m.\u001b[0m\u001b[0mget_vm\u001b[0m\u001b[1;33m(\u001b[0m\u001b[1;33m)\u001b[0m\u001b[1;33m.\u001b[0m\u001b[0mis_active\u001b[0m\u001b[1;33m(\u001b[0m\u001b[1;33m)\u001b[0m\u001b[1;33m:\u001b[0m\u001b[1;33m\u001b[0m\u001b[0m\n\u001b[1;32m--> 314\u001b[1;33m         \u001b[1;32mraise\u001b[0m \u001b[0mRuntimeError\u001b[0m\u001b[1;33m(\u001b[0m\u001b[1;34m\"Failed to start Java VM\"\u001b[0m\u001b[1;33m)\u001b[0m\u001b[1;33m\u001b[0m\u001b[0m\n\u001b[0m\u001b[0;32m    315\u001b[0m     \u001b[0mattach\u001b[0m\u001b[1;33m(\u001b[0m\u001b[1;33m)\u001b[0m\u001b[1;33m\u001b[0m\u001b[0m\n\u001b[0;32m    316\u001b[0m \u001b[1;33m\u001b[0m\u001b[0m\n",
      "\u001b[1;31mRuntimeError\u001b[0m: Failed to start Java VM"
     ]
    }
   ],
   "source": [
    "\n",
    "import weka.core.jvm as jvm\n",
    "jvm.start()\n",
    "from weka.core.converters import Loader\n",
    "from weka.classifiers import Classifier\n",
    "import weka.core.serialization as serialization\n",
    "\n",
    "from weka.classifiers import PredictionOutput\n",
    "from weka.classifiers import Evaluation\n",
    "from weka.core.classes import Random\n",
    "import pandas as pd\n"
   ]
  },
  {
   "cell_type": "code",
   "execution_count": 2,
   "metadata": {},
   "outputs": [],
   "source": [
    "loader = Loader(classname=\"weka.core.converters.ArffLoader\")\n",
    "\n",
    "data_dir = \"D:\\\\Rahul\\\\HealthCare ChatBot\\\\healthcare-dataset-stroke-data\\\\\"\n",
    "\n",
    "\n",
    "\n",
    "objects = serialization.read_all(\"J48.model\")\n",
    "csr = Classifier(jobject=objects[0])\n",
    "#print(classifier)"
   ]
  },
  {
   "cell_type": "code",
   "execution_count": 3,
   "metadata": {},
   "outputs": [],
   "source": [
    "f= open(\"instances.arff\",\"a\")\n",
    "\n",
    "#enter attributes\n",
    "\n",
    "st= \"\\nFemale,54,1,0,Yes,Private,Urban,72.93,35.7,'never smoked',?\"\n",
    "f.write(st)\n",
    "f.close()\n",
    "\n"
   ]
  },
  {
   "cell_type": "code",
   "execution_count": 23,
   "metadata": {},
   "outputs": [
    {
     "name": "stdout",
     "output_type": "stream",
     "text": [
      "@relation test\n",
      "\n",
      "@attribute gender {Male,Female,Other}\n",
      "@attribute age numeric\n",
      "@attribute hypertension numeric\n",
      "@attribute heart_disease numeric\n",
      "@attribute ever_married {No,Yes}\n",
      "@attribute work_type {children,Private,Never_worked,Self-employed,Govt_job}\n",
      "@attribute Residence_type {Rural,Urban}\n",
      "@attribute avg_glucose_level numeric\n",
      "@attribute bmi numeric\n",
      "@attribute smoking_status {'never smoked','formerly smoked',smokes}\n",
      "@attribute stroke {no,yes}\n",
      "\n",
      "@data\n",
      "Male,80,0,0,Yes,Private,Urban,83.84,21.1,'formerly smoked',?\n",
      "Male,80,0,0,Yes,Private,Urban,83.84,21.1,'formerly smoked',?\n",
      "Female,54,1,0,Yes,Private,Urban,72.93,35.7,'never smoked',yes\n",
      "Female,54,1,0,Yes,Private,Urban,72.93,35.7,'never smoked',yes\n",
      "Female,54,1,0,Yes,Private,Urban,72.93,35.7,'never smoked',?\n",
      "Female,54,1,0,Yes,Private,Urban,72.93,35.7,'never smoked',?\n",
      "Female,54,1,0,Yes,Private,Urban,72.93,35.7,'never smoked',?\n",
      "Male,24,0,0,No,'Self-employed',Urban,100,4.527122638646598,'never smoked',?\n"
     ]
    }
   ],
   "source": [
    "f= open(\"instances.arff\",\"r\")\n",
    "print(f.read())\n",
    "f.close()"
   ]
  },
  {
   "cell_type": "code",
   "execution_count": 25,
   "metadata": {},
   "outputs": [
    {
     "name": "stdout",
     "output_type": "stream",
     "text": [
      "Class prediction:  ,1:\n",
      "\n",
      "\n",
      "     Instance      Actual     Predicted\n",
      "1,1:?,1:no,,1\n",
      "2,1:?,1:no,,1\n",
      "3,2:yes,2:yes,,1\n",
      "4,2:yes,2:yes,,1\n",
      "5,1:?,2:yes,,1\n",
      "6,1:?,2:yes,,1\n",
      "7,1:?,2:yes,,1\n",
      "8,1:?,1:no,,1\n",
      "9,1:?,1:no,,1\n",
      "10,1:?,1:no,,1\n",
      "11,1:?,1:no,,1\n",
      "12,1:?,1:no,,1\n",
      "13,1:?,1:no,,1\n",
      "14,1:?,1:no,,1\n",
      "15,1:?,1:no,,1\n",
      "16,1:?,1:no,,1\n",
      "\n"
     ]
    }
   ],
   "source": [
    "from io import StringIO\n",
    "output_results = PredictionOutput(classname=\"weka.classifiers.evaluation.output.prediction.CSV\")\n",
    "data1 = loader.load_file(\"instances.arff\")\n",
    "data1.class_is_last()\n",
    "ev2 = Evaluation(data1)\n",
    "ev2.test_model(csr,data1,output_results)\n",
    "print(\"Class prediction: \",output_results.buffer_content()[-13:-10])\n",
    "print(\"\\n\\n     Instance\",\"     Actual\",\"    Predicted\")\n",
    "print(output_results.buffer_content())\n",
    "TESTDATA = StringIO(\"Instance,Actual,Predicted,\"+output_results.buffer_content())\n",
    "jvm.stop()\n",
    "x = pd.read_csv(TESTDATA)"
   ]
  },
  {
   "cell_type": "code",
   "execution_count": 14,
   "metadata": {},
   "outputs": [
    {
     "data": {
      "text/plain": [
       "'yes'"
      ]
     },
     "execution_count": 14,
     "metadata": {},
     "output_type": "execute_result"
    }
   ],
   "source": [
    "list(x.Predicted).pop().split(\":\")[1]"
   ]
  }
 ],
 "metadata": {
  "kernelspec": {
   "display_name": "Python 3",
   "language": "python",
   "name": "python3"
  },
  "language_info": {
   "codemirror_mode": {
    "name": "ipython",
    "version": 3
   },
   "file_extension": ".py",
   "mimetype": "text/x-python",
   "name": "python",
   "nbconvert_exporter": "python",
   "pygments_lexer": "ipython3",
   "version": "3.7.0"
  }
 },
 "nbformat": 4,
 "nbformat_minor": 2
}
